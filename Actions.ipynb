{
 "cells": [
  {
   "cell_type": "code",
   "execution_count": 1,
   "metadata": {},
   "outputs": [],
   "source": [
    "import numpy as np\n",
    "import changes_coords as chc\n",
    "import random, re\n",
    "import PharmHash as ph\n"
   ]
  },
  {
   "cell_type": "code",
   "execution_count": 2,
   "metadata": {},
   "outputs": [],
   "source": [
    "def load_from_coords(fname):\n",
    "    \"\"\"\n",
    "    Reads pharmacophore from xyz-file.\n",
    "    :param fname: xyz-file name\n",
    "    :return: dictionary of coords\n",
    "    \"\"\"\n",
    "    dic = {}\n",
    "\n",
    "    with open (fname) as f:\n",
    "        feature_coords = []\n",
    "        for line in f:       \n",
    "            line = line.strip().split()\n",
    "            if not line:\n",
    "                dic[name] = tuple(feature_coords)\n",
    "                feature_coords = []\n",
    "            elif len(line) == 1:  \n",
    "                name = line[0]\n",
    "            else:    \n",
    "                label, *coords = line\n",
    "                coords = tuple(map(float, coords))\n",
    "                feature_coords.append((label, coords))\n",
    "    return dic\n",
    "            "
   ]
  },
  {
   "cell_type": "code",
   "execution_count": 3,
   "metadata": {},
   "outputs": [],
   "source": [
    "def load_rmsd(fname):\n",
    "    dic = {}\n",
    "    with open (fname) as f:\n",
    "        for line in f:\n",
    "            line  = line.strip().split()\n",
    "            dic[line[0]+'_'+line[1]] = float(line[2])\n",
    "    return dic"
   ]
  },
  {
   "cell_type": "code",
   "execution_count": 4,
   "metadata": {
    "scrolled": true
   },
   "outputs": [],
   "source": [
    "RMSD = load_rmsd('E:\\learn\\python\\Ph_data\\confs_4386_mirror.rms')\n",
    "ph_coords = load_from_coords('E:\\learn\\python\\Ph_data\\confs_4386.coords')\n"
   ]
  },
  {
   "cell_type": "code",
   "execution_count": 34,
   "metadata": {},
   "outputs": [
    {
     "name": "stdout",
     "output_type": "stream",
     "text": [
      "Pharmacophore: DB02037_24, RMSD: 0.213\n",
      "PH: DB02037_1, RMSD: 0.088\n",
      "PH: DB02037_2, RMSD: 0.088\n",
      "PH: DB02037_3, RMSD: 0.088\n",
      "PH: DB02037_4, RMSD: 0.088\n",
      "PH: DB02037_5, RMSD: 0.097\n",
      "PH: DB02037_6, RMSD: 0.097\n",
      "PH: DB02037_7, RMSD: 0.213\n",
      "PH: DB02037_8, RMSD: 0.061\n",
      "PH: DB02037_9, RMSD: 0.097\n",
      "PH: DB02037_10, RMSD: 0.097\n",
      "PH: DB02037_11, RMSD: 0.088\n",
      "PH: DB02037_12, RMSD: 0.097\n",
      "PH: DB02037_13, RMSD: 0.088\n",
      "PH: DB02037_14, RMSD: 0.088\n",
      "PH: DB02037_15, RMSD: 0.097\n",
      "PH: DB02037_16, RMSD: 0.097\n",
      "PH: DB02037_17, RMSD: 0.097\n",
      "PH: DB02037_18, RMSD: 0.061\n",
      "PH: DB02037_19, RMSD: 0.097\n",
      "PH: DB02037_20, RMSD: 0.097\n",
      "PH: DB02037_21, RMSD: 0.213\n",
      "PH: DB02037_22, RMSD: 0.213\n",
      "PH: DB02037_23, RMSD: 0.088\n",
      "PH: DB02037_24, RMSD: 0.213\n",
      "PH: DB02037_25, RMSD: 0.097\n",
      "PH: DB02037_26, RMSD: 0.097\n",
      "PH: DB02037_27, RMSD: 0.097\n",
      "PH: DB02037_28, RMSD: 0.097\n",
      "PH: DB02037_29, RMSD: 0.061\n",
      "PH: DB02037_30, RMSD: 0.213\n",
      "PH: DB02037_31, RMSD: 0.097\n",
      "PH: DB02037_32, RMSD: 0.088\n",
      "PH: DB02037_33, RMSD: 0.213\n",
      "PH: DB02037_34, RMSD: 0.097\n",
      "PH: DB02037_35, RMSD: 0.061\n",
      "PH: DB02037_36, RMSD: 0.213\n",
      "PH: DB02037_37, RMSD: 0.097\n",
      "PH: DB02037_38, RMSD: 0.097\n",
      "PH: DB02037_39, RMSD: 0.097\n",
      "PH: DB02037_40, RMSD: 0.213\n",
      "PH: DB02037_41, RMSD: 0.213\n",
      "PH: DB02037_42, RMSD: 0.097\n",
      "PH: DB02037_43, RMSD: 0.088\n",
      "PH: DB02037_44, RMSD: 0.061\n",
      "PH: DB02037_45, RMSD: 0.097\n",
      "PH: DB02037_46, RMSD: 0.097\n",
      "PH: DB02037_47, RMSD: 0.097\n",
      "PH: DB02037_48, RMSD: 0.213\n",
      "PH: DB02037_49, RMSD: 0.097\n",
      "PH: DB02037_50, RMSD: 0.097\n"
     ]
    }
   ],
   "source": [
    "rnd_crd = random.choice(list(ph_coords.keys())) # get random pharmacophore\n",
    "similiar = [name for name in ph_coords.keys() if re.search(rnd_crd[:-2], name)]  # find all similiar pharmacophores\n",
    "\n",
    "accuracy = 0.5 # rounding accuracy\n",
    "ph1 = ph.Pharmacophore(rnd_crd, ph_coords[rnd_crd])\n",
    "ph1.rmsd = RMSD[rnd_crd]\n",
    "ph1.make_hash(accuracy)\n",
    "print(f\"Pharmacophore: {ph1.name}, RMSD: {ph1.rmsd}\")\n",
    "\n",
    "for crd in similiar:\n",
    "    ph2 = ph.Pharmacophore(crd, ph_coords[crd])\n",
    "    ph2.make_hash(accuracy)\n",
    "    ph2.rmsd = RMSD[crd]\n",
    "    if ph1.is_match(ph2):\n",
    "        print(f\"PH: {ph2.name}, RMSD: {ph2.rmsd}\")\n"
   ]
  }
 ],
 "metadata": {
  "kernelspec": {
   "display_name": "Python 3",
   "language": "python",
   "name": "python3"
  },
  "language_info": {
   "codemirror_mode": {
    "name": "ipython",
    "version": 3
   },
   "file_extension": ".py",
   "mimetype": "text/x-python",
   "name": "python",
   "nbconvert_exporter": "python",
   "pygments_lexer": "ipython3",
   "version": "3.8.3"
  }
 },
 "nbformat": 4,
 "nbformat_minor": 4
}
